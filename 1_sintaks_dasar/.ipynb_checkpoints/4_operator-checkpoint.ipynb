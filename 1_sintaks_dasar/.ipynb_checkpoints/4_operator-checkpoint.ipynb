{
 "cells": [
  {
   "cell_type": "markdown",
   "id": "4748ed32",
   "metadata": {},
   "source": [
    "![logo_jupyter.png](data:image/png;base64,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)"
   ]
  },
  {
   "cell_type": "markdown",
   "id": "330f0d05",
   "metadata": {},
   "source": [
    "Kursus Python untuk Pemula"
   ]
  },
  {
   "cell_type": "markdown",
   "id": "b4e59cce",
   "metadata": {},
   "source": [
    "# Operator\n",
    "Author : Afif A. Iskandar ([@afif.ai](https://instagram.com/afif.ai))"
   ]
  },
  {
   "cell_type": "markdown",
   "id": "06fe4989",
   "metadata": {},
   "source": [
    "Seperti dalam matematika, operator dalam python memiliki fungsi untuk memanipulasi operan atau dua objek yang mengapit operator tersebut\n",
    "\n",
    "misalkan `46 + 12`, berarti `46` dan `12` merupakan operan dan `+` merupakan operatornya.\n",
    "\n",
    "Dalam Python, ada beberapa jenis operator, diantaranya : \n",
    "\n",
    "- [Operator Aritmatika (Numerik)](#operator-aritmatika)\n",
    "- [Operator String](#operator-string)\n",
    "- [Operator Komparasi / Perbandingan](#operator-perbandingan)\n",
    "- [Operator Logika](#operator-logika)\n",
    "- [Operator Keanggotaan](#operator-keanggotaan)"
   ]
  },
  {
   "cell_type": "markdown",
   "id": "22d432fc",
   "metadata": {},
   "source": [
    "### Operator Aritmatika <a name=\"operator-aritmatika\"></a>\n",
    "\n",
    "Operator aritmatika adalah operator yang biasanya diimplementasikan ke tipe data numerik (`integer`, `float`, `boolean`, `complex`). Operasi yang adalah operasi yang biasanya ada dalam kalkulator \n",
    "\n",
    "| Operator| \tPenggunaan\t | Keterangan |\n",
    "| --- | --- | --- |\n",
    "| Penjumlahan `+`| \t`46 + 12` | Melakukan operasi penjumlahan pada bilangan |\n",
    "| Pengurangan `-`| \t`31 - 25`\t | Melakukan operasi pengurangan pada bilangan |\n",
    "| Perkalian `*`| \t`2 * 4`\t | Melakukan operasi perkalian pada bilangan |\n",
    "| Pembagian `/`| \t`10 / 5`\t | Melakukan operasi pembagian pada bilangan dengan hasil `float`|\n",
    "| Pembagian Bulat `//`| \t`10 // 3` |\tMelakukan operasi pembagian pada bilangan dengan hasil `int` |\n",
    "| Modulus `%`| \t`11 % 2`\t | Menghasilkan sisa bagi dari operator pembagian |\n",
    "| Pangkat `**`| \t`8 ** 2`\t | Melakukan operasi pemangkatan pada bilangan |"
   ]
  },
  {
   "cell_type": "markdown",
   "id": "39f25d43",
   "metadata": {},
   "source": [
    "berikut adalah contoh penggunaan operator aritmatika dalam python"
   ]
  },
  {
   "cell_type": "code",
   "execution_count": 1,
   "id": "505e46fa",
   "metadata": {},
   "outputs": [
    {
     "name": "stdout",
     "output_type": "stream",
     "text": [
      "19\n"
     ]
    }
   ],
   "source": [
    "# melakukan operasi penjumlahan dan langsung ditampilkan menjadi output\n",
    "print( 8 + 11)"
   ]
  },
  {
   "cell_type": "code",
   "execution_count": 2,
   "id": "01659157",
   "metadata": {},
   "outputs": [
    {
     "name": "stdout",
     "output_type": "stream",
     "text": [
      "Total Pemasukan : Rp. 5500000\n"
     ]
    }
   ],
   "source": [
    "# deklarasi variabel\n",
    "gaji = 5000000\n",
    "tunjangan = 500000\n",
    "\n",
    "# melakukan operasi penjumlahan dan disimpan dalam variabel\n",
    "total_net = gaji + tunjangan\n",
    "\n",
    "# tampilkan hasil\n",
    "print(\"Total Pemasukan : Rp.\", total_net)"
   ]
  },
  {
   "cell_type": "code",
   "execution_count": 3,
   "id": "1bf90557",
   "metadata": {},
   "outputs": [
    {
     "name": "stdout",
     "output_type": "stream",
     "text": [
      "Luas Segitiga : 25.0\n"
     ]
    }
   ],
   "source": [
    "# rumus luas segitiga\n",
    "# deklarasikan alas & tinggi\n",
    "alas = 5\n",
    "tinggi = 10\n",
    "\n",
    "# perhitungan luas segitiga\n",
    "luas_segitiga = (1/2) * alas * tinggi\n",
    "\n",
    "# tampilkan hasil \n",
    "print(\"Luas Segitiga :\",luas_segitiga)"
   ]
  },
  {
   "cell_type": "code",
   "execution_count": 4,
   "id": "385b17a4",
   "metadata": {},
   "outputs": [
    {
     "name": "stdout",
     "output_type": "stream",
     "text": [
      "Hasil Bagi: 3.4\n",
      "Hasil Bagi Bulat: 3\n",
      "Sisa Bagi: 2\n"
     ]
    }
   ],
   "source": [
    "# pembagian dan sisa bagi\n",
    "# deklarasikan angka\n",
    "angka_1 = 17\n",
    "angka_2 = 5\n",
    "\n",
    "# hitung pembagian\n",
    "hasil_bagi = angka_1 / angka_2\n",
    "hasil_bagi_bulat = angka_1 // angka_2\n",
    "sisa_bagi = angka_1 % angka_2\n",
    "\n",
    "print(\"Hasil Bagi:\", hasil_bagi)\n",
    "print(\"Hasil Bagi Bulat:\", hasil_bagi_bulat)\n",
    "print(\"Sisa Bagi:\", sisa_bagi)"
   ]
  },
  {
   "cell_type": "markdown",
   "id": "217ee4b3",
   "metadata": {},
   "source": [
    "Prioritas operasi yang digunakan Python adalah seperti operasi pada kalkulator saintifik, sehingga urutan operasinya adalah : \n",
    "- Pangkat\n",
    "- Perkalian / Pembagian\n",
    "- Penjumlahan / Pengurangan\n",
    "\n",
    "Contoh : "
   ]
  },
  {
   "cell_type": "code",
   "execution_count": 5,
   "id": "2a1d03ba",
   "metadata": {},
   "outputs": [
    {
     "name": "stdout",
     "output_type": "stream",
     "text": [
      "75\n"
     ]
    }
   ],
   "source": [
    "print( 2 + 5 ** 2 * 3 - 2)"
   ]
  },
  {
   "cell_type": "markdown",
   "id": "d9d6de69",
   "metadata": {},
   "source": [
    "Untuk membuktikannya, silahkan hitung secara manual hehehe\n"
   ]
  },
  {
   "cell_type": "markdown",
   "id": "cc5fe6fc",
   "metadata": {},
   "source": [
    "### Operator String  <a name=\"operator-string\"></a>\n",
    "\n",
    "Operator string adalah operator yang biasanya diimplementasikan ke string (ya iyalah). Operator string punya interface yang sama dengan beberapa operator aritmatika, namun dengan fungsi yang berbeda (polymorphism)\n",
    "\n",
    "| Operator| \tPenggunaan\t | Keterangan |\n",
    "| --- | --- | --- |\n",
    "| Penggabungan / Concatenation `+`| \t`\"Ngoding\" + \"Python\"` | Menggabungkan 2 string, operasi ini harus dilakukan antara string dan string|\n",
    "| Repeating `*`| \t`\"Afif\" * 5`\t | Melakukan operasi pengulangan concatenation selama `n` kali. Operasi ini harus dilakukan antara string dan integer |"
   ]
  },
  {
   "cell_type": "code",
   "execution_count": 6,
   "id": "e8c0c5f2",
   "metadata": {},
   "outputs": [
    {
     "name": "stdout",
     "output_type": "stream",
     "text": [
      "NgodingPython\n",
      "AfifAfifAfifAfifAfif\n"
     ]
    }
   ],
   "source": [
    "# eksekusi langsung operasi string\n",
    "print(\"Ngoding\" + \"Python\") # menggabungkan 2 string\n",
    "print(\"Afif\" * 5) # mengulang string"
   ]
  },
  {
   "cell_type": "markdown",
   "id": "b3539e2c",
   "metadata": {},
   "source": [
    "#### Trivia : \n",
    "Saat kita melakukan `\"Afif\" * 5` artinya kita menggabung `\"Afif\"` sebanyak 5 kali, seperti definisi perkalian pada bilangan\n",
    "\n",
    "```\n",
    "\"Afif\" * 5 = \"Afif\" + \"Afif\" + \"Afif\" + \"Afif\" + \"Afif\"\n",
    "```"
   ]
  },
  {
   "cell_type": "code",
   "execution_count": 7,
   "id": "eedba35e",
   "metadata": {},
   "outputs": [
    {
     "name": "stdout",
     "output_type": "stream",
     "text": [
      "NgodingPython\n"
     ]
    }
   ],
   "source": [
    "# Operasi dengan variabel\n",
    "string_1 = \"Ngoding\"\n",
    "string_2 = \"Python\"\n",
    "hasil = string_1 + string_2\n",
    "print(hasil)"
   ]
  },
  {
   "cell_type": "code",
   "execution_count": 8,
   "id": "f29f7479",
   "metadata": {},
   "outputs": [
    {
     "name": "stdout",
     "output_type": "stream",
     "text": [
      "Halo, Nama Saya Afif dan usia saya 19 tahun\n",
      "===========================================\n"
     ]
    }
   ],
   "source": [
    "# contoh lain\n",
    "nama = \"Afif\"\n",
    "usia = \"19\"\n",
    "\n",
    "print(\"Halo, Nama Saya \" + nama + \" dan usia saya \" + usia + \" tahun\")\n",
    "print(\"=\" * 43)"
   ]
  },
  {
   "cell_type": "markdown",
   "id": "0d5e1fd0",
   "metadata": {},
   "source": [
    "### Operator Perbandingan  <a name=\"operator-perbandingan\"></a>\n",
    "\n",
    "Operator perbandingan digunakan untuk membandingkan nilai dua operan yang mengapin operator tersebut. Operator perbandingan akan menghasilkan `boolean` sebagai output, yaitu `True` apabila perbandingan benar dan `False` apabila perbandingan salah."
   ]
  },
  {
   "cell_type": "markdown",
   "id": "bbc7f90d",
   "metadata": {},
   "source": [
    "| Operator\t| Contoh\t| Keterangan |\n",
    "| --- | --- | --- |\n",
    "| `==` | \t`1 == 1`  | Sama dengan |\n",
    "| `!=` atau `<>` |\t`2 != 2`  | Tidak Sama dengan |\n",
    "| `>` |\t`5 > 3`  | Lebih Besar Dari |\n",
    "| `<` |\t`5 < 3`  | Lebih Kecil Dari |\n",
    "| `>=` |\t`5 >= 3`  | Lebih Besar Sama Dengan Dari |\n",
    "| `<=` |\t`5 <= 3`  | Lebih Kecil Sama Dengan Dari |"
   ]
  },
  {
   "cell_type": "markdown",
   "id": "fba46157",
   "metadata": {},
   "source": [
    "berikut adalah contoh penggunaan operator perbandingan dalam python"
   ]
  },
  {
   "cell_type": "code",
   "execution_count": 9,
   "id": "ff575bbe",
   "metadata": {},
   "outputs": [
    {
     "name": "stdout",
     "output_type": "stream",
     "text": [
      "True\n"
     ]
    }
   ],
   "source": [
    "# eksekusi langsung operasi tidak sama dengan\n",
    "\n",
    "print( 4 != 2 ) # True karena 4 tidak sama dengan 2"
   ]
  },
  {
   "cell_type": "code",
   "execution_count": 10,
   "id": "e3c8b1b5",
   "metadata": {},
   "outputs": [
    {
     "name": "stdout",
     "output_type": "stream",
     "text": [
      "False\n"
     ]
    }
   ],
   "source": [
    "print( 3 < 2 ) # False karena 3 tidak lebih kecil dari 2"
   ]
  },
  {
   "cell_type": "code",
   "execution_count": 11,
   "id": "fb5871ed",
   "metadata": {},
   "outputs": [
    {
     "name": "stdout",
     "output_type": "stream",
     "text": [
      "True\n"
     ]
    }
   ],
   "source": [
    "# operasi dari variabel\n",
    "angka_1 = 5\n",
    "angka_2 = 7\n",
    "\n",
    "# simpan hasil perbandingan kedalam variabel\n",
    "hasil = angka_1 < angka_2\n",
    "\n",
    "# print hasil perbandingan \n",
    "print(hasil)"
   ]
  },
  {
   "cell_type": "markdown",
   "id": "94112aa0",
   "metadata": {},
   "source": [
    "Operator diatas akan berguna untuk kondisi pada `if-else` maupun pengulangan `while` yang akan dibahas pada lesson selanjutnya"
   ]
  },
  {
   "cell_type": "markdown",
   "id": "044a1e92",
   "metadata": {},
   "source": [
    "### Operator Logika  <a name=\"operator-logika\"></a>\n",
    "\n",
    "Operator logika digunakan untuk mengoperasikan tipe data `boolean` dengan aturan logika matematika. Operator yang digunakan adalah `and` dan `or`.\n",
    "\n",
    "Berikut adalah tabel logika `and` dan `or` :\n",
    "\n",
    "| operan_1\t| operan_2\t| hasil `and` | hasil `or` |\n",
    "| --- | --- | --- | --- |\n",
    "| `True` | `True` | `True` | `True` |\n",
    "| `True` | `False` | `False` | `True` |\n",
    "| `False` | `True` | `False` | `True` |\n",
    "| `False` | `False` | `False` | `False` |\n",
    "\n"
   ]
  },
  {
   "cell_type": "markdown",
   "id": "8b17e231",
   "metadata": {},
   "source": [
    "berikut adalah contoh penggunaan operator logika dalam python"
   ]
  },
  {
   "cell_type": "code",
   "execution_count": 12,
   "id": "a3be3cb5",
   "metadata": {},
   "outputs": [
    {
     "name": "stdout",
     "output_type": "stream",
     "text": [
      "True\n"
     ]
    }
   ],
   "source": [
    "# operasi langsung OR antara True dan False\n",
    "print(True or False)"
   ]
  },
  {
   "cell_type": "code",
   "execution_count": 13,
   "id": "b83fe365",
   "metadata": {},
   "outputs": [
    {
     "name": "stdout",
     "output_type": "stream",
     "text": [
      "True\n"
     ]
    }
   ],
   "source": [
    "# operasi dengan variabel\n",
    "\n",
    "bool_1 = True\n",
    "bool_2 = True\n",
    "hasil = bool_1 and bool_2\n",
    "print(hasil)"
   ]
  },
  {
   "cell_type": "markdown",
   "id": "7ffac2d5",
   "metadata": {},
   "source": [
    "Anda juga dapat mengoperasikan hasil dari operator perbandingan"
   ]
  },
  {
   "cell_type": "code",
   "execution_count": 14,
   "id": "575e8080",
   "metadata": {},
   "outputs": [
    {
     "name": "stdout",
     "output_type": "stream",
     "text": [
      "True\n"
     ]
    }
   ],
   "source": [
    "print(2 < 4 or 5 > 2) # melakukan operasi True or True"
   ]
  },
  {
   "cell_type": "markdown",
   "id": "6b7a4d1d",
   "metadata": {},
   "source": [
    "Prioritas operasi logika yang digunakan Python : \n",
    "- and\n",
    "- or\n",
    "\n",
    "Anda dapat menganalogikan operasi `and` seperti operasi perkalian `*` dan operasi `or` seperti operasi penjumlahan `+`"
   ]
  },
  {
   "cell_type": "code",
   "execution_count": 15,
   "id": "d5d44371",
   "metadata": {},
   "outputs": [
    {
     "name": "stdout",
     "output_type": "stream",
     "text": [
      "True\n"
     ]
    }
   ],
   "source": [
    "print(True or False and True or True)"
   ]
  },
  {
   "cell_type": "markdown",
   "id": "44cedd71",
   "metadata": {},
   "source": [
    "Lagi-lagi apabila ingin mengkonfirmasikan secara manual bisa coba sendiri ya, hehehehe"
   ]
  },
  {
   "cell_type": "markdown",
   "id": "183d593b",
   "metadata": {},
   "source": [
    "### Operator Keanggotaan  <a name=\"operator-keanggotaan\"></a>\n",
    "\n",
    "Operator keanggotaan memiliki fungsi untuk mengecek apakah suatu item berada pada suatu data. Sebagai contoh apakah suatu karakter / sub-string berada pada suatu string atau apakah suatu data berada pada suatu tipe data majemuk.\n",
    "\n",
    "Operan yang digunakan adalah :\n",
    "- `in` (mengecek apakah ada ?)\n",
    "- `not in` (mengecek apakah tidak ada ?)"
   ]
  },
  {
   "cell_type": "code",
   "execution_count": 16,
   "id": "02ab8d25",
   "metadata": {},
   "outputs": [
    {
     "name": "stdout",
     "output_type": "stream",
     "text": [
      "True\n"
     ]
    }
   ],
   "source": [
    "# cek apakah ada suatu karakter dalam string\n",
    "print(\"y\" in \"NgodingPython\")"
   ]
  },
  {
   "cell_type": "markdown",
   "id": "87eac4f1",
   "metadata": {},
   "source": [
    "Sebagai pengingat mengenai `case sensitive`, hal ini juga berlaku pada operator keanggotaan"
   ]
  },
  {
   "cell_type": "code",
   "execution_count": 18,
   "id": "98756e06",
   "metadata": {},
   "outputs": [
    {
     "name": "stdout",
     "output_type": "stream",
     "text": [
      "False\n"
     ]
    }
   ],
   "source": [
    "# cek apakah huruf p ada pada string NgodingPython\n",
    "print(\"p\" in \"NgodingPython\")"
   ]
  },
  {
   "cell_type": "code",
   "execution_count": 19,
   "id": "c126b78c",
   "metadata": {},
   "outputs": [
    {
     "name": "stdout",
     "output_type": "stream",
     "text": [
      "True\n"
     ]
    }
   ],
   "source": [
    "# cek data di sebuah list\n",
    "my_list = [\"Pepaya\", \"Mangga\", \"Pisang\", \"Jambu\"]\n",
    "buah = \"Mangga\"\n",
    "\n",
    "# cek apakah data pada\n",
    "print(buah in my_list)"
   ]
  },
  {
   "cell_type": "code",
   "execution_count": 21,
   "id": "0e8861d8",
   "metadata": {},
   "outputs": [
    {
     "name": "stdout",
     "output_type": "stream",
     "text": [
      "False\n"
     ]
    }
   ],
   "source": [
    "# masalah case sensitive\n",
    "buah = \"jambu\"\n",
    "print(buah in my_list)"
   ]
  },
  {
   "cell_type": "code",
   "execution_count": null,
   "id": "3e22f90e",
   "metadata": {},
   "outputs": [],
   "source": []
  }
 ],
 "metadata": {
  "kernelspec": {
   "display_name": "Python 3 (ipykernel)",
   "language": "python",
   "name": "python3"
  },
  "language_info": {
   "codemirror_mode": {
    "name": "ipython",
    "version": 3
   },
   "file_extension": ".py",
   "mimetype": "text/x-python",
   "name": "python",
   "nbconvert_exporter": "python",
   "pygments_lexer": "ipython3",
   "version": "3.10.2"
  }
 },
 "nbformat": 4,
 "nbformat_minor": 5
}
